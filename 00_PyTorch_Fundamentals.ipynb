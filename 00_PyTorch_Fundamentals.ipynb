{
  "nbformat": 4,
  "nbformat_minor": 0,
  "metadata": {
    "colab": {
      "provenance": [],
      "gpuType": "T4"
    },
    "kernelspec": {
      "name": "python3",
      "display_name": "Python 3"
    },
    "language_info": {
      "name": "python"
    },
    "accelerator": "GPU"
  },
  "cells": [
    {
      "cell_type": "code",
      "execution_count": 1,
      "metadata": {
        "colab": {
          "base_uri": "https://localhost:8080/",
          "height": 35
        },
        "id": "25fiKPI-zb-N",
        "outputId": "6fe7a14a-f054-43e0-ab8f-2cc93c2f7836"
      },
      "outputs": [
        {
          "output_type": "execute_result",
          "data": {
            "text/plain": [
              "'2.4.1+cu121'"
            ],
            "application/vnd.google.colaboratory.intrinsic+json": {
              "type": "string"
            }
          },
          "metadata": {},
          "execution_count": 1
        }
      ],
      "source": [
        "import torch\n",
        "import random\n",
        "import numpy as np\n",
        "torch.__version__"
      ]
    },
    {
      "cell_type": "markdown",
      "source": [
        "# Tensors"
      ],
      "metadata": {
        "id": "sCk0sMk-1npn"
      }
    },
    {
      "cell_type": "markdown",
      "source": [
        "## Creating Tensors"
      ],
      "metadata": {
        "id": "I9o4qUJH1sDG"
      }
    },
    {
      "cell_type": "code",
      "source": [
        "# scalar\n",
        "scalar = torch.tensor(7)\n",
        "scalar, scalar.ndim, scalar.item()"
      ],
      "metadata": {
        "colab": {
          "base_uri": "https://localhost:8080/"
        },
        "id": "70R_tWujziIf",
        "outputId": "08a93528-8387-4b50-b64f-617ea25eb3ee"
      },
      "execution_count": null,
      "outputs": [
        {
          "output_type": "execute_result",
          "data": {
            "text/plain": [
              "(tensor(7), 0, 7)"
            ]
          },
          "metadata": {},
          "execution_count": 5
        }
      ]
    },
    {
      "cell_type": "code",
      "source": [
        "# vector\n",
        "vector = torch.tensor([2,3,4])\n",
        "vector, vector.ndim"
      ],
      "metadata": {
        "colab": {
          "base_uri": "https://localhost:8080/"
        },
        "id": "qhp90Q1-1zfg",
        "outputId": "82f3b137-46a5-498d-bb2f-d0152d71e4fa"
      },
      "execution_count": null,
      "outputs": [
        {
          "output_type": "execute_result",
          "data": {
            "text/plain": [
              "(tensor([2, 3, 4]), 1)"
            ]
          },
          "metadata": {},
          "execution_count": 7
        }
      ]
    },
    {
      "cell_type": "code",
      "source": [
        "vector.shape"
      ],
      "metadata": {
        "colab": {
          "base_uri": "https://localhost:8080/"
        },
        "id": "QgJhuev72f76",
        "outputId": "07698ae3-440b-43bc-9fb2-8777b9290f08"
      },
      "execution_count": null,
      "outputs": [
        {
          "output_type": "execute_result",
          "data": {
            "text/plain": [
              "torch.Size([3])"
            ]
          },
          "metadata": {},
          "execution_count": 8
        }
      ]
    },
    {
      "cell_type": "code",
      "source": [
        "# Matrix\n",
        "Matrx = torch.tensor([[7,8],\n",
        "                      [9,10]])\n",
        "Matrx, Matrx.ndim, Matrx.shape"
      ],
      "metadata": {
        "colab": {
          "base_uri": "https://localhost:8080/"
        },
        "id": "m2Sxlqif6H10",
        "outputId": "e3475fa2-2e97-4c24-d7a4-5ec4dbc9df99"
      },
      "execution_count": null,
      "outputs": [
        {
          "output_type": "execute_result",
          "data": {
            "text/plain": [
              "(tensor([[ 7,  8],\n",
              "         [ 9, 10]]),\n",
              " 2,\n",
              " torch.Size([2, 2]))"
            ]
          },
          "metadata": {},
          "execution_count": 11
        }
      ]
    },
    {
      "cell_type": "code",
      "source": [
        "# other\n",
        "tns = torch.tensor([\n",
        "    [[1,2],\n",
        "     [2,3],\n",
        "     [5,6]]\n",
        "])\n",
        "tns.shape"
      ],
      "metadata": {
        "colab": {
          "base_uri": "https://localhost:8080/"
        },
        "id": "I9mgYSAj6SYE",
        "outputId": "2a91bac1-612b-467d-a6e1-3a833fd67e6f"
      },
      "execution_count": null,
      "outputs": [
        {
          "output_type": "execute_result",
          "data": {
            "text/plain": [
              "torch.Size([1, 3, 2])"
            ]
          },
          "metadata": {},
          "execution_count": 13
        }
      ]
    },
    {
      "cell_type": "markdown",
      "source": [
        "## Random Tensors"
      ],
      "metadata": {
        "id": "ExmTzQYXAzc6"
      }
    },
    {
      "cell_type": "code",
      "source": [
        "# random tensor of size (3, 4)\n",
        "random_tensor = torch.rand(size=(3,4))\n",
        "random_tensor, random_tensor.dtype"
      ],
      "metadata": {
        "colab": {
          "base_uri": "https://localhost:8080/"
        },
        "id": "ISPiOj-f_YYl",
        "outputId": "3717c058-ef81-4440-c317-78ad3e52caad"
      },
      "execution_count": null,
      "outputs": [
        {
          "output_type": "execute_result",
          "data": {
            "text/plain": [
              "(tensor([[0.6348, 0.2591, 0.8804, 0.3650],\n",
              "         [0.2704, 0.7608, 0.2354, 0.7321],\n",
              "         [0.9170, 0.3355, 0.5067, 0.0457]]),\n",
              " torch.float32)"
            ]
          },
          "metadata": {},
          "execution_count": 14
        }
      ]
    },
    {
      "cell_type": "markdown",
      "source": [
        "## Zeros and ones"
      ],
      "metadata": {
        "id": "WlzPoBBBBJ6G"
      }
    },
    {
      "cell_type": "code",
      "source": [
        "# create a tensor of all zeros\n",
        "zeros = torch.zeros(size=(3,4))\n",
        "zeros, zeros.dtype"
      ],
      "metadata": {
        "colab": {
          "base_uri": "https://localhost:8080/"
        },
        "id": "CgCT8dH7BBqI",
        "outputId": "6de1ec4a-1f98-4dd0-bbd7-dbc9b19919fa"
      },
      "execution_count": null,
      "outputs": [
        {
          "output_type": "execute_result",
          "data": {
            "text/plain": [
              "(tensor([[0., 0., 0., 0.],\n",
              "         [0., 0., 0., 0.],\n",
              "         [0., 0., 0., 0.]]),\n",
              " torch.float32)"
            ]
          },
          "metadata": {},
          "execution_count": 15
        }
      ]
    },
    {
      "cell_type": "code",
      "source": [
        "# all ones\n",
        "ones = torch.ones(size=(3, 4))\n",
        "ones, ones.dtype"
      ],
      "metadata": {
        "colab": {
          "base_uri": "https://localhost:8080/"
        },
        "id": "OasPvPXEBTbx",
        "outputId": "504f63e2-d2f7-41b3-a1c7-1be642dc2b38"
      },
      "execution_count": null,
      "outputs": [
        {
          "output_type": "execute_result",
          "data": {
            "text/plain": [
              "(tensor([[1., 1., 1., 1.],\n",
              "         [1., 1., 1., 1.],\n",
              "         [1., 1., 1., 1.]]),\n",
              " torch.float32)"
            ]
          },
          "metadata": {},
          "execution_count": 16
        }
      ]
    },
    {
      "cell_type": "markdown",
      "source": [
        "## Creating a range and tensors like"
      ],
      "metadata": {
        "id": "xPJ1SdJuBpBq"
      }
    },
    {
      "cell_type": "code",
      "source": [
        "zero_to_ten = torch.arange(start=0, end=10, step=1)\n",
        "zero_to_ten"
      ],
      "metadata": {
        "colab": {
          "base_uri": "https://localhost:8080/"
        },
        "id": "0LAy44RpBa41",
        "outputId": "d2cec69f-807d-4436-d3db-bcf7a1ce3307"
      },
      "execution_count": 2,
      "outputs": [
        {
          "output_type": "execute_result",
          "data": {
            "text/plain": [
              "tensor([0, 1, 2, 3, 4, 5, 6, 7, 8, 9])"
            ]
          },
          "metadata": {},
          "execution_count": 2
        }
      ]
    },
    {
      "cell_type": "code",
      "source": [
        "# zero tensor of similar shape\n",
        "ten_zero = torch.zeros_like(input = zero_to_ten)\n",
        "\n",
        "ten_ones = torch.ones_like(input = ten_zero)\n",
        "\n",
        "print(ten_zero, ten_ones)"
      ],
      "metadata": {
        "colab": {
          "base_uri": "https://localhost:8080/"
        },
        "id": "ziOw_eeKB_ef",
        "outputId": "82ca0bdb-c00c-47a5-f53e-7f3369adfa9f"
      },
      "execution_count": 8,
      "outputs": [
        {
          "output_type": "stream",
          "name": "stdout",
          "text": [
            "tensor([0, 0, 0, 0, 0, 0, 0, 0, 0, 0]) tensor([1, 1, 1, 1, 1, 1, 1, 1, 1, 1])\n"
          ]
        }
      ]
    },
    {
      "cell_type": "markdown",
      "source": [
        "## Tensor datatype"
      ],
      "metadata": {
        "id": "lKIqE50tCP94"
      }
    },
    {
      "cell_type": "code",
      "source": [
        "f32_tensor = torch.tensor([3.0, 2.0],\n",
        "                          dtype=None,\n",
        "                          device=None,\n",
        "                          requires_grad=False)\n",
        "f16_tensor = torch.tensor([3.0, 2.0],\n",
        "                          dtype=torch.float16)\n"
      ],
      "metadata": {
        "id": "ozdXTqNXCOHE"
      },
      "execution_count": 22,
      "outputs": []
    },
    {
      "cell_type": "code",
      "source": [
        "print(f\"{'Tensor':<10} {'Shape':<20} {'Dtype':<20} {'Device':<15}\")\n",
        "print(f\"{'f32':<10} {str(f32_tensor.shape):<20} {str(f32_tensor.dtype):<20} {str(f32_tensor.device):<15}\")\n",
        "print(f\"{'f16':<10} {str(f16_tensor.shape):<20} {str(f16_tensor.dtype):<20} {str(f16_tensor.device):<15}\")\n"
      ],
      "metadata": {
        "colab": {
          "base_uri": "https://localhost:8080/"
        },
        "id": "mnNxJ5282vcb",
        "outputId": "9c9be369-9a0c-4825-f7e7-408840c2b239"
      },
      "execution_count": 23,
      "outputs": [
        {
          "output_type": "stream",
          "name": "stdout",
          "text": [
            "Tensor     Shape                Dtype                Device         \n",
            "f32        torch.Size([2])      torch.float32        cpu            \n",
            "f16        torch.Size([2])      torch.float16        cpu            \n"
          ]
        }
      ]
    },
    {
      "cell_type": "markdown",
      "source": [
        "# Getting info from tensors"
      ],
      "metadata": {
        "id": "mhjNH18g3Y5e"
      }
    },
    {
      "cell_type": "code",
      "source": [
        "some_tensor = torch.rand(size=(3,4))\n",
        "print(f\"{'Tensor':<15} : {some_tensor}\")\n",
        "print(f\"{'Shape':<15} : {some_tensor.shape}\" )\n",
        "print(f\"{'Dtype':<15} : {some_tensor.dtype}\" )\n",
        "print(f\"{'Device':<15} : {some_tensor.device}\" )"
      ],
      "metadata": {
        "colab": {
          "base_uri": "https://localhost:8080/"
        },
        "id": "p60OcvXb6VaH",
        "outputId": "d857a376-8feb-44df-b4f4-85d6ff28b636"
      },
      "execution_count": 30,
      "outputs": [
        {
          "output_type": "stream",
          "name": "stdout",
          "text": [
            "Tensor          : tensor([[0.6736, 0.7322, 0.6362, 0.9709],\n",
            "        [0.0465, 0.4670, 0.6297, 0.6304],\n",
            "        [0.7475, 0.5143, 0.7807, 0.6105]])\n",
            "Shape           : torch.Size([3, 4])\n",
            "Dtype           : torch.float32\n",
            "Device          : cpu\n"
          ]
        }
      ]
    },
    {
      "cell_type": "markdown",
      "source": [
        "# Manipulating Tensor"
      ],
      "metadata": {
        "id": "M2Ej-_gv8MUL"
      }
    },
    {
      "cell_type": "markdown",
      "source": [
        "## Basic operations"
      ],
      "metadata": {
        "id": "JIu5O9xB9BDq"
      }
    },
    {
      "cell_type": "code",
      "source": [
        "tensor = torch.tensor([1,2,3])\n",
        "tensor + 10, tensor *10"
      ],
      "metadata": {
        "colab": {
          "base_uri": "https://localhost:8080/"
        },
        "id": "V3VZTPPi9LCJ",
        "outputId": "27e6e056-e10c-43f0-8165-587e9f4edb0d"
      },
      "execution_count": 32,
      "outputs": [
        {
          "output_type": "execute_result",
          "data": {
            "text/plain": [
              "(tensor([11, 12, 13]), tensor([10, 20, 30]))"
            ]
          },
          "metadata": {},
          "execution_count": 32
        }
      ]
    },
    {
      "cell_type": "code",
      "source": [
        "torch.multiply(tensor, 10)"
      ],
      "metadata": {
        "colab": {
          "base_uri": "https://localhost:8080/"
        },
        "id": "j8_KzPO-9PpA",
        "outputId": "68f22103-1ac6-4cd9-ee87-930a7ef48a60"
      },
      "execution_count": 33,
      "outputs": [
        {
          "output_type": "execute_result",
          "data": {
            "text/plain": [
              "tensor([10, 20, 30])"
            ]
          },
          "metadata": {},
          "execution_count": 33
        }
      ]
    },
    {
      "cell_type": "markdown",
      "source": [
        "## Matrix multiplication"
      ],
      "metadata": {
        "id": "BSOgrsbl9W78"
      }
    },
    {
      "cell_type": "code",
      "source": [
        "tensor = torch.tensor([1,2,3])\n",
        "print(\"Element-wise multiplication : \", tensor * tensor)\n",
        "print(\"Matrix Mult : \", torch.matmul(tensor, tensor))\n",
        "print(\"Matrix Mult : \", tensor @ tensor)"
      ],
      "metadata": {
        "colab": {
          "base_uri": "https://localhost:8080/"
        },
        "id": "igtELXl19bdk",
        "outputId": "61ccd013-037e-45be-f2e8-88f153e27fbb"
      },
      "execution_count": 35,
      "outputs": [
        {
          "output_type": "stream",
          "name": "stdout",
          "text": [
            "Element-wise multiplication :  tensor([1, 4, 9])\n",
            "Matrix Mult :  tensor(14)\n",
            "Matrix Mult :  tensor(14)\n"
          ]
        }
      ]
    },
    {
      "cell_type": "markdown",
      "source": [
        "## Transpose"
      ],
      "metadata": {
        "id": "Wx5GqFBkDn5D"
      }
    },
    {
      "cell_type": "code",
      "source": [
        "tensor = torch.tensor([[1, 2],\n",
        "                         [3, 4],\n",
        "                         [5, 6]], dtype=torch.float32)\n",
        "tensor, tensor.T"
      ],
      "metadata": {
        "colab": {
          "base_uri": "https://localhost:8080/"
        },
        "id": "oQJC7syUDp7z",
        "outputId": "9a962ae6-093b-4bf1-fafa-de20406edfd5"
      },
      "execution_count": 37,
      "outputs": [
        {
          "output_type": "execute_result",
          "data": {
            "text/plain": [
              "(tensor([[1., 2.],\n",
              "         [3., 4.],\n",
              "         [5., 6.]]),\n",
              " tensor([[1., 3., 5.],\n",
              "         [2., 4., 6.]]))"
            ]
          },
          "metadata": {},
          "execution_count": 37
        }
      ]
    },
    {
      "cell_type": "markdown",
      "source": [
        "# Common errors in DL (shape errors)"
      ],
      "metadata": {
        "id": "Hf23EyPj90xW"
      }
    },
    {
      "cell_type": "markdown",
      "source": [
        "## Min, Max, Mean, Sum etc"
      ],
      "metadata": {
        "id": "L2eBdYHuB1DD"
      }
    },
    {
      "cell_type": "code",
      "source": [
        "x = torch.arange(start = 0, end = 100, step = 10)\n",
        "print(f\"{'Min': <10} : {x.min()}\")\n",
        "print(f\"{'Max': <10} : {x.max()}\")\n",
        "print(f\"{'Mean': <10} : {x.type(torch.float32).mean()}\")\n",
        "print(f\"{'Sum': <10} : {x.sum()}\")\n",
        "\n"
      ],
      "metadata": {
        "colab": {
          "base_uri": "https://localhost:8080/"
        },
        "id": "zxYkiIBuEQv5",
        "outputId": "43e0bbd6-f5d3-436e-b3d3-1d580219e264"
      },
      "execution_count": 42,
      "outputs": [
        {
          "output_type": "stream",
          "name": "stdout",
          "text": [
            "Min        : 0\n",
            "Max        : 90\n",
            "Mean       : 45.0\n",
            "Sum        : 450\n"
          ]
        }
      ]
    },
    {
      "cell_type": "markdown",
      "source": [
        "## Positional min/max"
      ],
      "metadata": {
        "id": "mFF8AF0pEflb"
      }
    },
    {
      "cell_type": "code",
      "source": [
        "tensor = torch.arange(0, 100, step = 10)\n",
        "print(\"tensor : \", tensor)\n",
        "print(\"index of max value : \", tensor.argmax())\n",
        "print(\"index of min value : \", tensor.argmin())"
      ],
      "metadata": {
        "colab": {
          "base_uri": "https://localhost:8080/"
        },
        "id": "8x2uAe3lGLSC",
        "outputId": "b3c151fb-6983-41aa-fe32-c6a55f07e5fb"
      },
      "execution_count": 43,
      "outputs": [
        {
          "output_type": "stream",
          "name": "stdout",
          "text": [
            "tensor :  tensor([ 0, 10, 20, 30, 40, 50, 60, 70, 80, 90])\n",
            "index of max value :  tensor(9)\n",
            "index of min value :  tensor(0)\n"
          ]
        }
      ]
    },
    {
      "cell_type": "markdown",
      "source": [
        "## Change tensor datatype"
      ],
      "metadata": {
        "id": "edPZ69HDGZVU"
      }
    },
    {
      "cell_type": "code",
      "source": [
        "tensor = torch.arange(10. , 100. , 10.)\n",
        "tensor.dtype"
      ],
      "metadata": {
        "colab": {
          "base_uri": "https://localhost:8080/"
        },
        "id": "nkd7wWM7GdwT",
        "outputId": "e69b236f-5b1a-44c2-ddee-5dbb8359d443"
      },
      "execution_count": 44,
      "outputs": [
        {
          "output_type": "execute_result",
          "data": {
            "text/plain": [
              "torch.float32"
            ]
          },
          "metadata": {},
          "execution_count": 44
        }
      ]
    },
    {
      "cell_type": "code",
      "source": [
        "# convert to float16\n",
        "tensor_16f = tensor.type(torch.float16)\n",
        "tensor_16f.dtype"
      ],
      "metadata": {
        "colab": {
          "base_uri": "https://localhost:8080/"
        },
        "id": "FHIcv1Z7GnQe",
        "outputId": "1baced36-63b0-4f3e-ab1d-f0cdf47a5642"
      },
      "execution_count": 45,
      "outputs": [
        {
          "output_type": "execute_result",
          "data": {
            "text/plain": [
              "torch.float16"
            ]
          },
          "metadata": {},
          "execution_count": 45
        }
      ]
    },
    {
      "cell_type": "code",
      "source": [
        "tensor_int8 = tensor.type(torch.int8)\n",
        "tensor_int8.dtype"
      ],
      "metadata": {
        "colab": {
          "base_uri": "https://localhost:8080/"
        },
        "id": "G-6zDS_XGwQd",
        "outputId": "3b0ec61a-a0d2-42ba-e9f4-6fcde50963c6"
      },
      "execution_count": 47,
      "outputs": [
        {
          "output_type": "execute_result",
          "data": {
            "text/plain": [
              "torch.int8"
            ]
          },
          "metadata": {},
          "execution_count": 47
        }
      ]
    },
    {
      "cell_type": "markdown",
      "source": [
        "## Reshaping, stacking, squeezing, unsqueezing"
      ],
      "metadata": {
        "id": "kjgvhYBUG2l3"
      }
    },
    {
      "cell_type": "code",
      "source": [
        "x = torch.arange(1., 8)\n",
        "x, x.shape"
      ],
      "metadata": {
        "colab": {
          "base_uri": "https://localhost:8080/"
        },
        "id": "GtSc_RqnG-JF",
        "outputId": "d219d1af-3160-4207-c096-a4560590a167"
      },
      "execution_count": 48,
      "outputs": [
        {
          "output_type": "execute_result",
          "data": {
            "text/plain": [
              "(tensor([1., 2., 3., 4., 5., 6., 7.]), torch.Size([7]))"
            ]
          },
          "metadata": {},
          "execution_count": 48
        }
      ]
    },
    {
      "cell_type": "code",
      "source": [
        "# add extra dim\n",
        "x_reshaped = x.reshape(1, 7)\n",
        "x_reshaped, x_reshaped.shape"
      ],
      "metadata": {
        "colab": {
          "base_uri": "https://localhost:8080/"
        },
        "id": "nf6MasUGR1z0",
        "outputId": "113f1837-4777-4fb7-9693-f1d173372bca"
      },
      "execution_count": 49,
      "outputs": [
        {
          "output_type": "execute_result",
          "data": {
            "text/plain": [
              "(tensor([[1., 2., 3., 4., 5., 6., 7.]]), torch.Size([1, 7]))"
            ]
          },
          "metadata": {},
          "execution_count": 49
        }
      ]
    },
    {
      "cell_type": "code",
      "source": [
        "# Change the view (keep same data as original but change the view)\n",
        "# NOTE : changing the view also change the original tensor as well\n",
        "z = x.view(1,7)\n",
        "z, z.shape"
      ],
      "metadata": {
        "colab": {
          "base_uri": "https://localhost:8080/"
        },
        "id": "z_8HrJNNR_Mw",
        "outputId": "4e388bae-66bf-45af-c6b7-0e8b01bcd77c"
      },
      "execution_count": 52,
      "outputs": [
        {
          "output_type": "execute_result",
          "data": {
            "text/plain": [
              "(tensor([[1., 2., 3., 4., 5., 6., 7.]]), torch.Size([1, 7]))"
            ]
          },
          "metadata": {},
          "execution_count": 52
        }
      ]
    },
    {
      "cell_type": "code",
      "source": [
        "z[:, 0] = 5\n",
        "z, x"
      ],
      "metadata": {
        "colab": {
          "base_uri": "https://localhost:8080/"
        },
        "id": "33J5oU0ISKOe",
        "outputId": "55aba2de-75ee-4596-cff7-fc9fd6736ade"
      },
      "execution_count": 53,
      "outputs": [
        {
          "output_type": "execute_result",
          "data": {
            "text/plain": [
              "(tensor([[5., 2., 3., 4., 5., 6., 7.]]), tensor([5., 2., 3., 4., 5., 6., 7.]))"
            ]
          },
          "metadata": {},
          "execution_count": 53
        }
      ]
    },
    {
      "cell_type": "code",
      "source": [
        "# stack the tensor\n",
        "x_stacked_dim0 = torch.stack([x, x, x], dim = 0)\n",
        "x_stacked_dim1 = torch.stack([x, x, x], dim = 1)\n",
        "x_stacked_dim0, x_stacked_dim1"
      ],
      "metadata": {
        "colab": {
          "base_uri": "https://localhost:8080/"
        },
        "id": "DG0R5B0pSZC4",
        "outputId": "a2b42e86-4d84-4e18-eb3e-555c24091a4f"
      },
      "execution_count": 60,
      "outputs": [
        {
          "output_type": "execute_result",
          "data": {
            "text/plain": [
              "(tensor([[5., 2., 3., 4., 5., 6., 7.],\n",
              "         [5., 2., 3., 4., 5., 6., 7.],\n",
              "         [5., 2., 3., 4., 5., 6., 7.]]),\n",
              " tensor([[5., 5., 5.],\n",
              "         [2., 2., 2.],\n",
              "         [3., 3., 3.],\n",
              "         [4., 4., 4.],\n",
              "         [5., 5., 5.],\n",
              "         [6., 6., 6.],\n",
              "         [7., 7., 7.]]))"
            ]
          },
          "metadata": {},
          "execution_count": 60
        }
      ]
    },
    {
      "cell_type": "code",
      "source": [
        "# remove all single dim from tensor\n",
        "x_squeezed = x_reshaped.squeeze()\n",
        "x_squeezed, x_squeezed.shape"
      ],
      "metadata": {
        "colab": {
          "base_uri": "https://localhost:8080/"
        },
        "id": "7Nd7NlJ_Skf6",
        "outputId": "ccd052a5-15dc-4f1e-fd94-703d156d6e51"
      },
      "execution_count": 61,
      "outputs": [
        {
          "output_type": "execute_result",
          "data": {
            "text/plain": [
              "(tensor([5., 2., 3., 4., 5., 6., 7.]), torch.Size([7]))"
            ]
          },
          "metadata": {},
          "execution_count": 61
        }
      ]
    },
    {
      "cell_type": "code",
      "source": [
        "# add dimension of 1 at specific index\n",
        "x_unsqueezed = x_squeezed.unsqueeze(dim=0)\n",
        "x_unsqueezed"
      ],
      "metadata": {
        "colab": {
          "base_uri": "https://localhost:8080/"
        },
        "id": "mUFRiJxRTAXM",
        "outputId": "d086caa8-19df-4913-deaa-a76d6b27daca"
      },
      "execution_count": 67,
      "outputs": [
        {
          "output_type": "execute_result",
          "data": {
            "text/plain": [
              "tensor([[5., 2., 3., 4., 5., 6., 7.]])"
            ]
          },
          "metadata": {},
          "execution_count": 67
        }
      ]
    },
    {
      "cell_type": "code",
      "source": [
        "# rearrange the axis of tensor\n",
        "x_original = torch.rand(size=(224, 224, 3))\n",
        "# shift axis such that 0=1 , 1=2, 2=0\n",
        "x_premuted = x_original.permute(2, 0, 1)\n",
        "print(f\"{'original tensor shape' :<15} : {x_original.shape}\")\n",
        "print(f\"{'permuted tensor shape' :<15} : {x_premuted.shape}\")"
      ],
      "metadata": {
        "colab": {
          "base_uri": "https://localhost:8080/"
        },
        "id": "mzmUsYahX-TU",
        "outputId": "a4fd9ab7-bcac-46f2-e387-02f028ff2cfb"
      },
      "execution_count": 73,
      "outputs": [
        {
          "output_type": "stream",
          "name": "stdout",
          "text": [
            "original tensor shape : torch.Size([224, 224, 3])\n",
            "permuted tensor shape : torch.Size([3, 224, 224])\n"
          ]
        }
      ]
    },
    {
      "cell_type": "markdown",
      "source": [
        "# Indexing"
      ],
      "metadata": {
        "id": "mzAEDn-xY_rs"
      }
    },
    {
      "cell_type": "code",
      "source": [
        "x = torch.arange(1, 10).reshape(1, 3, 3)\n",
        "x, x.shape"
      ],
      "metadata": {
        "colab": {
          "base_uri": "https://localhost:8080/"
        },
        "id": "Mu_x5gvwZYQg",
        "outputId": "45e34f85-3ade-4fa6-cd93-8fa9a1509ea1"
      },
      "execution_count": 74,
      "outputs": [
        {
          "output_type": "execute_result",
          "data": {
            "text/plain": [
              "(tensor([[[1, 2, 3],\n",
              "          [4, 5, 6],\n",
              "          [7, 8, 9]]]),\n",
              " torch.Size([1, 3, 3]))"
            ]
          },
          "metadata": {},
          "execution_count": 74
        }
      ]
    },
    {
      "cell_type": "code",
      "source": [
        "x[0], x[0][0], x[0][0][0]"
      ],
      "metadata": {
        "colab": {
          "base_uri": "https://localhost:8080/"
        },
        "id": "YULGuCmGZ-xA",
        "outputId": "a6a20e6d-c8de-4f0f-9468-c73373944616"
      },
      "execution_count": 75,
      "outputs": [
        {
          "output_type": "execute_result",
          "data": {
            "text/plain": [
              "(tensor([[1, 2, 3],\n",
              "         [4, 5, 6],\n",
              "         [7, 8, 9]]),\n",
              " tensor([1, 2, 3]),\n",
              " tensor(1))"
            ]
          },
          "metadata": {},
          "execution_count": 75
        }
      ]
    },
    {
      "cell_type": "markdown",
      "source": [
        "# Pytorch tensor and NumPy"
      ],
      "metadata": {
        "id": "o-FrEe-obI5C"
      }
    },
    {
      "cell_type": "code",
      "source": [
        "array = np.arange(1.0, 8.0)\n",
        "tensor = torch.from_numpy(array).type(torch.float32)\n",
        "array, tensor\n",
        "# array is of float64 type default"
      ],
      "metadata": {
        "colab": {
          "base_uri": "https://localhost:8080/"
        },
        "id": "vK7OIfNcbV2A",
        "outputId": "cb281697-b193-4407-d568-425fb56b3f37"
      },
      "execution_count": 81,
      "outputs": [
        {
          "output_type": "execute_result",
          "data": {
            "text/plain": [
              "(array([1., 2., 3., 4., 5., 6., 7.]), tensor([1., 2., 3., 4., 5., 6., 7.]))"
            ]
          },
          "metadata": {},
          "execution_count": 81
        }
      ]
    },
    {
      "cell_type": "code",
      "source": [
        "tensor = torch.ones(7)\n",
        "numpy_tensor = tensor.numpy()\n",
        "tensor, numpy_tensor"
      ],
      "metadata": {
        "colab": {
          "base_uri": "https://localhost:8080/"
        },
        "id": "CxSdNYKVb25L",
        "outputId": "dbb1433c-0fe6-49cb-a9af-0b9bfef290e0"
      },
      "execution_count": 80,
      "outputs": [
        {
          "output_type": "execute_result",
          "data": {
            "text/plain": [
              "(tensor([1., 1., 1., 1., 1., 1., 1.]),\n",
              " array([1., 1., 1., 1., 1., 1., 1.], dtype=float32))"
            ]
          },
          "metadata": {},
          "execution_count": 80
        }
      ]
    },
    {
      "cell_type": "markdown",
      "source": [
        "# Reproducibility\n",
        "`torch.random.manual_seed(seed=RANDOM_SEED)`"
      ],
      "metadata": {
        "id": "bE5KMTe8cSOm"
      }
    },
    {
      "cell_type": "code",
      "source": [
        "RANDOM_SEED = 47\n",
        "torch.random.manual_seed(seed=RANDOM_SEED)\n",
        "random_tensor = torch.rand(3,4)"
      ],
      "metadata": {
        "id": "11atRSz_cZmW"
      },
      "execution_count": 86,
      "outputs": []
    },
    {
      "cell_type": "markdown",
      "source": [
        "# Running tensors on GPU"
      ],
      "metadata": {
        "id": "TACSU2N0dHhS"
      }
    },
    {
      "cell_type": "code",
      "source": [
        "!nvidia-smi"
      ],
      "metadata": {
        "colab": {
          "base_uri": "https://localhost:8080/"
        },
        "id": "vlkeLQnNdQ4M",
        "outputId": "badf376d-a581-4ec8-8332-6228a9c1535c"
      },
      "execution_count": 2,
      "outputs": [
        {
          "output_type": "stream",
          "name": "stdout",
          "text": [
            "Mon Oct  7 10:17:11 2024       \n",
            "+---------------------------------------------------------------------------------------+\n",
            "| NVIDIA-SMI 535.104.05             Driver Version: 535.104.05   CUDA Version: 12.2     |\n",
            "|-----------------------------------------+----------------------+----------------------+\n",
            "| GPU  Name                 Persistence-M | Bus-Id        Disp.A | Volatile Uncorr. ECC |\n",
            "| Fan  Temp   Perf          Pwr:Usage/Cap |         Memory-Usage | GPU-Util  Compute M. |\n",
            "|                                         |                      |               MIG M. |\n",
            "|=========================================+======================+======================|\n",
            "|   0  Tesla T4                       Off | 00000000:00:04.0 Off |                    0 |\n",
            "| N/A   47C    P8              10W /  70W |      0MiB / 15360MiB |      0%      Default |\n",
            "|                                         |                      |                  N/A |\n",
            "+-----------------------------------------+----------------------+----------------------+\n",
            "                                                                                         \n",
            "+---------------------------------------------------------------------------------------+\n",
            "| Processes:                                                                            |\n",
            "|  GPU   GI   CI        PID   Type   Process name                            GPU Memory |\n",
            "|        ID   ID                                                             Usage      |\n",
            "|=======================================================================================|\n",
            "|  No running processes found                                                           |\n",
            "+---------------------------------------------------------------------------------------+\n"
          ]
        }
      ]
    },
    {
      "cell_type": "code",
      "source": [
        "torch.cuda.is_available()"
      ],
      "metadata": {
        "colab": {
          "base_uri": "https://localhost:8080/"
        },
        "id": "6cAZP4sjddrq",
        "outputId": "af11dccc-24f6-4ebc-f827-d138b2090664"
      },
      "execution_count": 3,
      "outputs": [
        {
          "output_type": "execute_result",
          "data": {
            "text/plain": [
              "True"
            ]
          },
          "metadata": {},
          "execution_count": 3
        }
      ]
    },
    {
      "cell_type": "code",
      "source": [
        "device = \"cuda\" if torch.cuda.is_available() else \"cpu\"\n",
        "device"
      ],
      "metadata": {
        "colab": {
          "base_uri": "https://localhost:8080/",
          "height": 35
        },
        "id": "OFaNccPbdyiS",
        "outputId": "46e8cfc4-8547-4481-8784-4134019b4086"
      },
      "execution_count": 4,
      "outputs": [
        {
          "output_type": "execute_result",
          "data": {
            "text/plain": [
              "'cuda'"
            ],
            "application/vnd.google.colaboratory.intrinsic+json": {
              "type": "string"
            }
          },
          "metadata": {},
          "execution_count": 4
        }
      ]
    },
    {
      "cell_type": "code",
      "source": [
        "# number of available cuda device\n",
        "torch.cuda.device_count()"
      ],
      "metadata": {
        "colab": {
          "base_uri": "https://localhost:8080/"
        },
        "id": "7hIWkgAjd5ul",
        "outputId": "60883c90-6f49-4ded-d18d-85bd1822b39c"
      },
      "execution_count": 5,
      "outputs": [
        {
          "output_type": "execute_result",
          "data": {
            "text/plain": [
              "1"
            ]
          },
          "metadata": {},
          "execution_count": 5
        }
      ]
    },
    {
      "cell_type": "code",
      "source": [
        "if torch.cuda.is_available():\n",
        "    device = \"cuda\" # Use NVIDIA GPU (if available)\n",
        "elif torch.backends.mps.is_available():\n",
        "    device = \"mps\" # Use Apple Silicon GPU (if available)\n",
        "else:\n",
        "    device = \"cpu\" # Default to CPU if no GPU is available\n",
        "device"
      ],
      "metadata": {
        "colab": {
          "base_uri": "https://localhost:8080/",
          "height": 35
        },
        "id": "bTdtqJq1eBXC",
        "outputId": "6f3347e2-26b8-4bf4-b95a-35ba79384116"
      },
      "execution_count": 6,
      "outputs": [
        {
          "output_type": "execute_result",
          "data": {
            "text/plain": [
              "'cuda'"
            ],
            "application/vnd.google.colaboratory.intrinsic+json": {
              "type": "string"
            }
          },
          "metadata": {},
          "execution_count": 6
        }
      ]
    },
    {
      "cell_type": "markdown",
      "source": [
        "## Putting tensor on GPU"
      ],
      "metadata": {
        "id": "2JSEnccMeWa7"
      }
    },
    {
      "cell_type": "code",
      "source": [
        "tensor = torch.tensor([1,2,3])\n",
        "print(tensor, tensor.device)\n",
        "\n",
        "tensor_on_GPU = tensor.to(device)\n",
        "print(tensor_on_GPU, tensor_on_GPU.device)"
      ],
      "metadata": {
        "colab": {
          "base_uri": "https://localhost:8080/"
        },
        "id": "QNr7Iy2LfBhm",
        "outputId": "2c17d821-71ef-49f4-bee2-1f008df421d1"
      },
      "execution_count": 7,
      "outputs": [
        {
          "output_type": "stream",
          "name": "stdout",
          "text": [
            "tensor([1, 2, 3]) cpu\n",
            "tensor([1, 2, 3], device='cuda:0') cuda:0\n"
          ]
        }
      ]
    },
    {
      "cell_type": "markdown",
      "source": [
        "## Tensor back to CPU"
      ],
      "metadata": {
        "id": "d1sEV6yHfNmQ"
      }
    },
    {
      "cell_type": "code",
      "source": [
        "tensor_on_GPU.cpu().numpy()"
      ],
      "metadata": {
        "colab": {
          "base_uri": "https://localhost:8080/"
        },
        "id": "sYQowOAyfV8B",
        "outputId": "2a6cb622-cb11-4a59-b661-fd8faab12153"
      },
      "execution_count": 10,
      "outputs": [
        {
          "output_type": "execute_result",
          "data": {
            "text/plain": [
              "array([1, 2, 3])"
            ]
          },
          "metadata": {},
          "execution_count": 10
        }
      ]
    },
    {
      "cell_type": "code",
      "source": [],
      "metadata": {
        "id": "EjPfpwF7fb-y"
      },
      "execution_count": null,
      "outputs": []
    }
  ]
}